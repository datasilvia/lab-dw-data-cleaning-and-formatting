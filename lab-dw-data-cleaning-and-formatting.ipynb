{
  "cells": [
    {
      "cell_type": "markdown",
      "id": "25d7736c-ba17-4aff-b6bb-66eba20fbf4e",
      "metadata": {
        "id": "25d7736c-ba17-4aff-b6bb-66eba20fbf4e"
      },
      "source": [
        "# Lab | Data Cleaning and Formatting"
      ]
    },
    {
      "cell_type": "markdown",
      "id": "d1973e9e-8be6-4039-b70e-d73ee0d94c99",
      "metadata": {
        "id": "d1973e9e-8be6-4039-b70e-d73ee0d94c99"
      },
      "source": [
        "In this lab, we will be working with the customer data from an insurance company, which can be found in the CSV file located at the following link: https://raw.githubusercontent.com/data-bootcamp-v4/data/main/file1.csv\n"
      ]
    },
    {
      "cell_type": "markdown",
      "id": "31b8a9e7-7db9-4604-991b-ef6771603e57",
      "metadata": {
        "id": "31b8a9e7-7db9-4604-991b-ef6771603e57"
      },
      "source": [
        "# Challenge 1: Data Cleaning and Formatting"
      ]
    },
    {
      "cell_type": "markdown",
      "id": "81553f19-9f2c-484b-8940-520aff884022",
      "metadata": {
        "id": "81553f19-9f2c-484b-8940-520aff884022"
      },
      "source": [
        "## Exercise 1: Cleaning Column Names"
      ]
    },
    {
      "cell_type": "markdown",
      "id": "34a929f4-1be4-4fa8-adda-42ffd920be90",
      "metadata": {
        "id": "34a929f4-1be4-4fa8-adda-42ffd920be90"
      },
      "source": [
        "To ensure consistency and ease of use, standardize the column names of the dataframe. Start by taking a first look at the dataframe and identifying any column names that need to be modified. Use appropriate naming conventions and make sure that column names are descriptive and informative.\n",
        "\n",
        "*Hint*:\n",
        "- *Column names should be in lower case*\n",
        "- *White spaces in column names should be replaced by `_`*\n",
        "- *`st` could be replaced for `state`*"
      ]
    },
    {
      "cell_type": "code",
      "execution_count": 160,
      "id": "626b802c",
      "metadata": {},
      "outputs": [],
      "source": [
        "%load_ext autoreload\n",
        "%autoreload 2"
      ]
    },
    {
      "cell_type": "code",
      "execution_count": 2,
      "id": "5309ee61",
      "metadata": {},
      "outputs": [],
      "source": [
        "import data_cleaning"
      ]
    },
    {
      "cell_type": "code",
      "execution_count": 2,
      "id": "c1612397",
      "metadata": {},
      "outputs": [],
      "source": [
        "import pandas as pd\n",
        "url = \"https://raw.githubusercontent.com/data-bootcamp-v4/data/main/file1.csv\"\n",
        "df = pd.read_csv(url)"
      ]
    },
    {
      "cell_type": "code",
      "execution_count": null,
      "id": "5810735c-8056-4442-bbf2-dda38d3e284a",
      "metadata": {
        "id": "5810735c-8056-4442-bbf2-dda38d3e284a"
      },
      "outputs": [],
      "source": [
        "df.head()\n",
        "print(f\"Data Frame columns are: {df.columns}\") # To see wich the name of the columns are\n",
        "\n",
        "\n",
        "df.columns = df.columns.str.lower() # To make all column names in lower case\n",
        "df.columns = df.columns.str.replace(\" \", \"_\") #To replace spaces in column names with \"_\"\n",
        "df = df.rename(columns = {'st': 'state'}) # To rename the column name \"st\" as \"state\"\n",
        "\n",
        "print(f\"Date Frame columns names modified are: {df.columns}\") # to see the name of the columns modified\n",
        "\n",
        "df.head()"
      ]
    },
    {
      "cell_type": "markdown",
      "id": "9cb501ec-36ff-4589-b872-6252bb150316",
      "metadata": {
        "id": "9cb501ec-36ff-4589-b872-6252bb150316"
      },
      "source": [
        "## Exercise 2: Cleaning invalid Values"
      ]
    },
    {
      "cell_type": "markdown",
      "id": "771fdcf3-8e20-4b06-9c24-3a93ba2b0909",
      "metadata": {
        "id": "771fdcf3-8e20-4b06-9c24-3a93ba2b0909"
      },
      "source": [
        "The dataset contains columns with inconsistent and incorrect values that could affect the accuracy of our analysis. Therefore, we need to clean these columns to ensure that they only contain valid data.\n",
        "\n",
        "Note that this exercise will focus only on cleaning inconsistent values and will not involve handling null values (NaN or None).\n",
        "\n",
        "*Hint*:\n",
        "- *Gender column contains various inconsistent values such as \"F\", \"M\", \"Femal\", \"Male\", \"female\", which need to be standardized, for example, to \"M\" and \"F\".*\n",
        "- *State abbreviations be can replaced with its full name, for example \"AZ\": \"Arizona\", \"Cali\": \"California\", \"WA\": \"Washington\"*\n",
        "- *In education, \"Bachelors\" could be replaced by \"Bachelor\"*\n",
        "- *In Customer Lifetime Value, delete the `%` character*\n",
        "- *In vehicle class, \"Sports Car\", \"Luxury SUV\" and \"Luxury Car\" could be replaced by \"Luxury\"*"
      ]
    },
    {
      "cell_type": "code",
      "execution_count": null,
      "id": "3f8ee5cb-50ab-48af-8a9f-9a389804033c",
      "metadata": {
        "id": "3f8ee5cb-50ab-48af-8a9f-9a389804033c"
      },
      "outputs": [],
      "source": [
        "print(df[\"gender\"])\n",
        "\n",
        "df[\"gender\"].unique() # To see how many and which unique values are. We only want \"F\" and \"M\"\n",
        "df[\"gender\"] = df.gender.str.replace(\"female\", \"F\").replace(\"Femal\", \"F\").replace(\"Male\", \"M\") # We replace some to match \"F\" and \"M\"\n",
        "df[\"gender\"].unique() # We see now we only have \"nan\" , \"F\" and \"M\"\n",
        "\n",
        "\n",
        "df[\"state\"].unique()\n",
        "df[\"state\"] = df.state.str.replace(\"AZ\", \"Arizona\").replace(\"WA\", \"Washington\").replace(\"\").replace(\"California\", \"Cali\") # If we replace \"Cali\" with \"California\" we get some \"Californiafornia\" So we first replace \"California\" with \"Cali\"\n",
        "df[\"state\"].unique()\n",
        "df[\"state\"] = df.state.str.replace(\"Cali\", \"California\") #And now we can safely replace \"Cali\" with \"California\"\n",
        "df[\"state\"].unique()\n",
        "\n",
        "\n",
        "df[\"education\"] = df.education.str.replace(\"Bachelors\", \"Bachelor\")\n",
        "df[\"education\"].unique()\n",
        "\n",
        "\n",
        "df[\"customer_lifetime_value\"] = df.customer_lifetime_value.str.replace(\"%\", \"\")\n",
        "\n",
        "\n",
        "df[\"vehicle_class\"] = df.vehicle_class.str.replace(\"Sports Car\", \"Luxury\").replace(\"Luxury SUV\", \"Luxury\").replace(\"Luxury Car\", \"Luxury\")\n",
        "df[\"vehicle_class\"].unique()\n"
      ]
    },
    {
      "cell_type": "markdown",
      "id": "85ff78ce-0174-4890-9db3-8048b7d7d2d0",
      "metadata": {
        "id": "85ff78ce-0174-4890-9db3-8048b7d7d2d0"
      },
      "source": [
        "## Exercise 3: Formatting data types"
      ]
    },
    {
      "cell_type": "markdown",
      "id": "b91c2cf8-79a2-4baf-9f65-ff2fb22270bd",
      "metadata": {
        "id": "b91c2cf8-79a2-4baf-9f65-ff2fb22270bd"
      },
      "source": [
        "The data types of many columns in the dataset appear to be incorrect. This could impact the accuracy of our analysis. To ensure accurate analysis, we need to correct the data types of these columns. Please update the data types of the columns as appropriate."
      ]
    },
    {
      "cell_type": "markdown",
      "id": "43e5d853-ff9e-43b2-9d92-aef2f78764f3",
      "metadata": {
        "id": "43e5d853-ff9e-43b2-9d92-aef2f78764f3"
      },
      "source": [
        "It is important to note that this exercise does not involve handling null values (NaN or None)."
      ]
    },
    {
      "cell_type": "markdown",
      "id": "329ca691-9196-4419-8969-3596746237a1",
      "metadata": {
        "id": "329ca691-9196-4419-8969-3596746237a1"
      },
      "source": [
        "*Hint*:\n",
        "- *Customer lifetime value should be numeric*\n",
        "- *Number of open complaints has an incorrect format. Look at the different values it takes with `unique()` and take the middle value. As an example, 1/5/00 should be 5. Number of open complaints is a string - remember you can use `split()` to deal with it and take the number you need. Finally, since it should be numeric, cast the column to be in its proper type.*"
      ]
    },
    {
      "cell_type": "code",
      "execution_count": 3,
      "id": "bd6f1992",
      "metadata": {},
      "outputs": [],
      "source": [
        "df.dtypes\n",
        "\n",
        "df[\"customer_lifetime_value\"] = pd.to_numeric(df[\"customer_lifetime_value\"]) # Converting into numeric"
      ]
    },
    {
      "cell_type": "code",
      "execution_count": null,
      "id": "8624a44b",
      "metadata": {},
      "outputs": [],
      "source": [
        "df[\"number_of_open_complaints\"].unique() # We visualize the unique values in the \"number_of_open_complaints\" column"
      ]
    },
    {
      "cell_type": "code",
      "execution_count": 5,
      "id": "ca221713",
      "metadata": {},
      "outputs": [],
      "source": [
        "df[\"number_of_open_complaints\"].unique()\n",
        "\n",
        "df[\"number_of_open_complaints\"] = df[\"number_of_open_complaints\"].str.replace('/00','') # Noticing there is a value \"1/1/00\", I apply first replacing the final part \"/00\" \n",
        "df[\"number_of_open_complaints\"] = df[\"number_of_open_complaints\"].str.replace('1/','')\n"
      ]
    },
    {
      "cell_type": "code",
      "execution_count": null,
      "id": "d9f3c465",
      "metadata": {},
      "outputs": [],
      "source": [
        "df[\"number_of_open_complaints\"].unique() # To see if it has done correctly"
      ]
    },
    {
      "cell_type": "code",
      "execution_count": 7,
      "id": "4c6a3081",
      "metadata": {},
      "outputs": [],
      "source": [
        "df[\"number_of_open_complaints\"] = pd.to_numeric(df[\"number_of_open_complaints\"])"
      ]
    },
    {
      "cell_type": "code",
      "execution_count": null,
      "id": "3052f195",
      "metadata": {},
      "outputs": [],
      "source": [
        "df.info()"
      ]
    },
    {
      "cell_type": "markdown",
      "id": "14c52e28-2d0c-4dd2-8bd5-3476e34fadc1",
      "metadata": {
        "id": "14c52e28-2d0c-4dd2-8bd5-3476e34fadc1"
      },
      "source": [
        "## Exercise 4: Dealing with Null values"
      ]
    },
    {
      "cell_type": "markdown",
      "id": "34b9a20f-7d32-4417-975e-1b4dfb0e16cd",
      "metadata": {
        "id": "34b9a20f-7d32-4417-975e-1b4dfb0e16cd"
      },
      "source": [
        "Identify any columns with null or missing values. Identify how many null values each column has. You can use the `isnull()` function in pandas to find columns with null values.\n",
        "\n",
        "Decide on a strategy for handling the null values. There are several options, including:\n",
        "\n",
        "- Drop the rows or columns with null values\n",
        "- Fill the null values with a specific value (such as the column mean or median for numerical variables, and mode for categorical variables)\n",
        "- Fill the null values with the previous or next value in the column\n",
        "- Fill the null values based on a more complex algorithm or model (note: we haven't covered this yet)\n",
        "\n",
        "Implement your chosen strategy to handle the null values. You can use the `fillna()` function in pandas to fill null values or `dropna()` function to drop null values.\n",
        "\n",
        "Verify that your strategy has successfully handled the null values. You can use the `isnull()` function again to check if there are still null values in the dataset.\n",
        "\n",
        "Remember to document your process and explain your reasoning for choosing a particular strategy for handling null values.\n",
        "\n",
        "After formatting data types, as a last step, convert all the numeric variables to integers."
      ]
    },
    {
      "cell_type": "code",
      "execution_count": null,
      "id": "f184fc35-7831-4836-a0a5-e7f99e01b40e",
      "metadata": {
        "id": "f184fc35-7831-4836-a0a5-e7f99e01b40e"
      },
      "outputs": [],
      "source": [
        "df.isna().any()"
      ]
    },
    {
      "cell_type": "code",
      "execution_count": null,
      "id": "59b3b2fd",
      "metadata": {},
      "outputs": [],
      "source": [
        "df.isna().sum()\n",
        "\n",
        "df.isna().sum(axis=1)"
      ]
    },
    {
      "cell_type": "code",
      "execution_count": null,
      "id": "c8b72b97",
      "metadata": {},
      "outputs": [],
      "source": [
        "df.dropna(how = \"all\") # To drop all rows with every value as null (in every column)"
      ]
    },
    {
      "cell_type": "code",
      "execution_count": 12,
      "id": "936697c8",
      "metadata": {},
      "outputs": [],
      "source": [
        "df = df.dropna(how = \"all\")"
      ]
    },
    {
      "cell_type": "code",
      "execution_count": null,
      "id": "a00feab3",
      "metadata": {},
      "outputs": [],
      "source": [
        "df.tail()"
      ]
    },
    {
      "cell_type": "code",
      "execution_count": null,
      "id": "58f48a1b",
      "metadata": {},
      "outputs": [],
      "source": [
        "df.isna().any() # After dropping every row with null values, we look for other columns with null values\n",
        "\n",
        "# We have to deal with the columns \"gender\" and \"customer_lifetime_value\""
      ]
    },
    {
      "cell_type": "code",
      "execution_count": null,
      "id": "65c31335",
      "metadata": {},
      "outputs": [],
      "source": [
        "print(f\"The number of null values in the column 'gender'' is : {df['gender'].isna().sum()}\")\n",
        "print(f\"Total entrys in the 'gender' column is: {len(df['gender'])}\")\n",
        "\n",
        "\n",
        "print(f\"The number of null values in the column 'customer_lifetime_value' is : {df['customer_lifetime_value'].isna().sum()}\")\n",
        "print(f\"Total entrys in the 'customer_lifetime_value' column is: {len(df['customer_lifetime_value'])}\")"
      ]
    },
    {
      "cell_type": "code",
      "execution_count": 16,
      "id": "5f28adc9",
      "metadata": {},
      "outputs": [],
      "source": [
        "df.dropna(subset=[\"customer_lifetime_value\"], inplace = True) # Number of null values in column customer_lifetime_value is only 3, so I decided to drop those tres rows"
      ]
    },
    {
      "cell_type": "code",
      "execution_count": null,
      "id": "52bce6b0",
      "metadata": {},
      "outputs": [],
      "source": [
        "df[\"customer_lifetime_value\"]"
      ]
    },
    {
      "cell_type": "code",
      "execution_count": null,
      "id": "c305c4e6",
      "metadata": {},
      "outputs": [],
      "source": [
        "print(f\"The number of null values in the column 'customer_lifetime_value' is : {df['customer_lifetime_value'].isna().sum()}\")\n",
        "print(f\"Total entrys in the 'customer_lifetime_value' column is: {len(df['customer_lifetime_value'])}\")"
      ]
    },
    {
      "cell_type": "code",
      "execution_count": null,
      "id": "2463d460",
      "metadata": {},
      "outputs": [],
      "source": [
        "# the number of null values in gender column is high, like the 10% of the lenght of the amount of data, so I decided to change the missing values for the corresponding prior value in the table.\n",
        "\n",
        "#df[\"gender\"].ffill()\n",
        "\n",
        "df[\"gender\"] = df[\"gender\"].fillna(method = 'ffill')"
      ]
    },
    {
      "cell_type": "code",
      "execution_count": null,
      "id": "9d9764a9",
      "metadata": {},
      "outputs": [],
      "source": [
        "print(f\"The number of null values in the column 'gender'' is : {df['gender'].isna().sum()}\")\n",
        "print(f\"Total entrys in the 'gender' column is: {len(df['gender'])}\")"
      ]
    },
    {
      "cell_type": "markdown",
      "id": "98416351-e999-4156-9834-9b00a311adfa",
      "metadata": {
        "id": "98416351-e999-4156-9834-9b00a311adfa"
      },
      "source": [
        "## Exercise 5: Dealing with duplicates"
      ]
    },
    {
      "cell_type": "markdown",
      "id": "ea0816a7-a18e-4d4c-b667-a8452a800bd1",
      "metadata": {
        "id": "ea0816a7-a18e-4d4c-b667-a8452a800bd1"
      },
      "source": [
        "Use the `.duplicated()` method to identify any duplicate rows in the dataframe.\n",
        "\n",
        "Decide on a strategy for handling the duplicates. Options include:\n",
        "- Dropping all duplicate rows\n",
        "- Keeping only the first occurrence of each duplicated row\n",
        "- Keeping only the last occurrence of each duplicated row\n",
        "- Dropping duplicates based on a subset of columns\n",
        "- Dropping duplicates based on a specific column\n",
        "\n",
        "Implement your chosen strategy using the `drop_duplicates()` function.\n",
        "\n",
        "Verify that your strategy has successfully handled the duplicates by checking for duplicates again using `.duplicated()`.\n",
        "\n",
        "Remember to document your process and explain your reasoning for choosing a particular strategy for handling duplicates.\n",
        "\n",
        "Save the cleaned dataset to a new CSV file.\n",
        "\n",
        "*Hint*: *after dropping duplicates, reset the index to ensure consistency*."
      ]
    },
    {
      "cell_type": "code",
      "execution_count": null,
      "id": "1929362c-47ed-47cb-baca-358b78d401a0",
      "metadata": {
        "id": "1929362c-47ed-47cb-baca-358b78d401a0"
      },
      "outputs": [],
      "source": [
        "df.duplicated() # To show if we have any duplicated row. (It will show \"True\" in duplicated rows)"
      ]
    },
    {
      "cell_type": "code",
      "execution_count": null,
      "id": "82e3964f",
      "metadata": {},
      "outputs": [],
      "source": [
        "df.duplicated().sum() #The result is 0, so we don have any duplicates"
      ]
    },
    {
      "cell_type": "code",
      "execution_count": null,
      "id": "53df0c97",
      "metadata": {},
      "outputs": [],
      "source": [
        "df.reset_index() # To reset the indexes. The old indexes are stored in a new column called \"index\""
      ]
    },
    {
      "cell_type": "code",
      "execution_count": null,
      "id": "a00d370e",
      "metadata": {},
      "outputs": [],
      "source": [
        "df.reset_index(drop=True)"
      ]
    },
    {
      "cell_type": "markdown",
      "id": "60840701-4783-40e2-b4d8-55303f9100c9",
      "metadata": {
        "id": "60840701-4783-40e2-b4d8-55303f9100c9"
      },
      "source": [
        "# Bonus: Challenge 2: creating functions on a separate `py` file"
      ]
    },
    {
      "cell_type": "markdown",
      "id": "9d1adb3a-17cf-4899-8041-da21a4337fb4",
      "metadata": {
        "id": "9d1adb3a-17cf-4899-8041-da21a4337fb4"
      },
      "source": [
        "Put all the data cleaning and formatting steps into functions, and create a main function that performs all the cleaning and formatting.\n",
        "\n",
        "Write these functions in separate .py file(s). By putting these steps into functions, we can make the code more modular and easier to maintain."
      ]
    },
    {
      "cell_type": "markdown",
      "id": "0e170dc2-b62c-417a-8248-e63ed18a70c4",
      "metadata": {
        "id": "0e170dc2-b62c-417a-8248-e63ed18a70c4"
      },
      "source": [
        "*Hint: autoreload module is a utility module in Python that allows you to automatically reload modules in the current session when changes are made to the source code. This can be useful in situations where you are actively developing code and want to see the effects of changes you make without having to constantly restart the Python interpreter or Jupyter Notebook kernel.*"
      ]
    },
    {
      "cell_type": "code",
      "execution_count": null,
      "id": "41b4fe5d",
      "metadata": {},
      "outputs": [],
      "source": [
        "data_cleaning.show_columns(df)\n",
        "data_cleaning.format_column_names(df)"
      ]
    },
    {
      "cell_type": "code",
      "execution_count": 6,
      "id": "3fe8ad63",
      "metadata": {},
      "outputs": [],
      "source": [
        "df = df.rename(columns={'st': 'state'})"
      ]
    },
    {
      "cell_type": "code",
      "execution_count": null,
      "id": "9eaf1167",
      "metadata": {},
      "outputs": [],
      "source": [
        "#data_cleaning.format_data_types(df) REVISAR"
      ]
    },
    {
      "cell_type": "code",
      "execution_count": null,
      "id": "624d2b47",
      "metadata": {},
      "outputs": [],
      "source": [
        "data_cleaning.clean_invalid_data(df)\n",
        "data_cleaning.deal_with_null_values(df)\n",
        "data_cleaning.reset_indexes(df)"
      ]
    },
    {
      "cell_type": "markdown",
      "id": "80f846bb-3f5e-4ca2-96c0-900728daca5a",
      "metadata": {
        "id": "80f846bb-3f5e-4ca2-96c0-900728daca5a",
        "tags": []
      },
      "source": [
        "# Bonus: Challenge 3: Analyzing Clean and Formated Data"
      ]
    },
    {
      "cell_type": "markdown",
      "id": "9021630e-cc90-446c-b5bd-264d6c864207",
      "metadata": {
        "id": "9021630e-cc90-446c-b5bd-264d6c864207"
      },
      "source": [
        "You have been tasked with analyzing the data to identify potential areas for improving customer retention and profitability. Your goal is to identify customers with a high policy claim amount and a low customer lifetime value.\n",
        "\n",
        "In the Pandas Lab, we only looked at high policy claim amounts because we couldn't look into low customer lifetime values. If we had tried to work with that column, we wouldn't have been able to because customer lifetime value wasn't clean and in its proper format. So after cleaning and formatting the data, let's get some more interesting insights!\n",
        "\n",
        "Instructions:\n",
        "\n",
        "- Review the statistics again for total claim amount and customer lifetime value to gain an understanding of the data.\n",
        "- To identify potential areas for improving customer retention and profitability, we want to focus on customers with a high policy claim amount and a low customer lifetime value. Consider customers with a high policy claim amount to be those in the top 25% of the total claim amount, and clients with a low customer lifetime value to be those in the bottom 25% of the customer lifetime value. Create a pandas DataFrame object that contains information about customers with a policy claim amount greater than the 75th percentile and a customer lifetime value in the bottom 25th percentile.\n",
        "- Use DataFrame methods to calculate summary statistics about the high policy claim amount and low customer lifetime value data. To do so, select both columns of the dataframe simultaneously and pass it to the `.describe()` method. This will give you descriptive statistics, such as mean, median, standard deviation, minimum and maximum values for both columns at the same time, allowing you to compare and analyze their characteristics."
      ]
    },
    {
      "cell_type": "code",
      "execution_count": 23,
      "id": "211e82b5-461a-4d6f-8a23-4deccb84173c",
      "metadata": {
        "id": "211e82b5-461a-4d6f-8a23-4deccb84173c"
      },
      "outputs": [],
      "source": [
        "# Your code here"
      ]
    }
  ],
  "metadata": {
    "colab": {
      "provenance": []
    },
    "kernelspec": {
      "display_name": "base",
      "language": "python",
      "name": "python3"
    },
    "language_info": {
      "codemirror_mode": {
        "name": "ipython",
        "version": 3
      },
      "file_extension": ".py",
      "mimetype": "text/x-python",
      "name": "python",
      "nbconvert_exporter": "python",
      "pygments_lexer": "ipython3",
      "version": "3.12.4"
    }
  },
  "nbformat": 4,
  "nbformat_minor": 5
}
